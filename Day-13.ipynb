{
  "nbformat": 4,
  "nbformat_minor": 0,
  "metadata": {
    "colab": {
      "provenance": []
    },
    "kernelspec": {
      "name": "python3",
      "display_name": "Python 3"
    },
    "language_info": {
      "name": "python"
    }
  },
  "cells": [
    {
      "cell_type": "code",
      "source": [
        "import spacy\n",
        "nlp = spacy.load(\"en_core_web_sm\")\n",
        "sentence = \"NLP is amazing and fun to learn.\"\n",
        "doc = nlp(sentence)\n",
        "for token in doc:\n",
        "    print(f\"{token.text:<10} {token.pos_:<10} {token.dep_}\")\n"
      ],
      "metadata": {
        "colab": {
          "base_uri": "https://localhost:8080/"
        },
        "id": "QuuxrfrO606G",
        "outputId": "2802c935-4aeb-4b8a-f217-c8d1f07082f4"
      },
      "execution_count": 1,
      "outputs": [
        {
          "output_type": "stream",
          "name": "stdout",
          "text": [
            "NLP        PROPN      nsubj\n",
            "is         AUX        ROOT\n",
            "amazing    ADJ        acomp\n",
            "and        CCONJ      cc\n",
            "fun        ADJ        conj\n",
            "to         PART       aux\n",
            "learn      VERB       xcomp\n",
            ".          PUNCT      punct\n"
          ]
        }
      ]
    }
  ]
}